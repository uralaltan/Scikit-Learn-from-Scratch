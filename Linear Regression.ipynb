{
 "cells": [
  {
   "cell_type": "markdown",
   "id": "9f588de3",
   "metadata": {},
   "source": [
    "## House price prediction without using scikit-learn library ##"
   ]
  },
  {
   "cell_type": "markdown",
   "id": "e9359ab6",
   "metadata": {},
   "source": [
    "### Single feature linear regression ###"
   ]
  },
  {
   "cell_type": "code",
   "execution_count": 467,
   "id": "60ebb59a",
   "metadata": {},
   "outputs": [],
   "source": [
    "import numpy as np\n",
    "import pandas as pd"
   ]
  },
  {
   "cell_type": "code",
   "execution_count": 810,
   "id": "0c464fbb",
   "metadata": {
    "scrolled": true
   },
   "outputs": [
    {
     "data": {
      "text/html": [
       "<div>\n",
       "<style scoped>\n",
       "    .dataframe tbody tr th:only-of-type {\n",
       "        vertical-align: middle;\n",
       "    }\n",
       "\n",
       "    .dataframe tbody tr th {\n",
       "        vertical-align: top;\n",
       "    }\n",
       "\n",
       "    .dataframe thead th {\n",
       "        text-align: right;\n",
       "    }\n",
       "</style>\n",
       "<table border=\"1\" class=\"dataframe\">\n",
       "  <thead>\n",
       "    <tr style=\"text-align: right;\">\n",
       "      <th></th>\n",
       "      <th>date</th>\n",
       "      <th>price</th>\n",
       "      <th>bedrooms</th>\n",
       "      <th>bathrooms</th>\n",
       "      <th>sqft_living</th>\n",
       "      <th>sqft_lot</th>\n",
       "      <th>floors</th>\n",
       "      <th>waterfront</th>\n",
       "      <th>view</th>\n",
       "      <th>condition</th>\n",
       "      <th>sqft_above</th>\n",
       "      <th>sqft_basement</th>\n",
       "      <th>yr_built</th>\n",
       "      <th>yr_renovated</th>\n",
       "      <th>street</th>\n",
       "      <th>city</th>\n",
       "      <th>statezip</th>\n",
       "      <th>country</th>\n",
       "    </tr>\n",
       "  </thead>\n",
       "  <tbody>\n",
       "    <tr>\n",
       "      <th>0</th>\n",
       "      <td>2014-05-02 00:00:00</td>\n",
       "      <td>313000.0</td>\n",
       "      <td>3.0</td>\n",
       "      <td>1.50</td>\n",
       "      <td>1340</td>\n",
       "      <td>7912</td>\n",
       "      <td>1.5</td>\n",
       "      <td>0</td>\n",
       "      <td>0</td>\n",
       "      <td>3</td>\n",
       "      <td>1340</td>\n",
       "      <td>0</td>\n",
       "      <td>1955</td>\n",
       "      <td>2005</td>\n",
       "      <td>18810 Densmore Ave N</td>\n",
       "      <td>Shoreline</td>\n",
       "      <td>WA 98133</td>\n",
       "      <td>USA</td>\n",
       "    </tr>\n",
       "    <tr>\n",
       "      <th>1</th>\n",
       "      <td>2014-05-02 00:00:00</td>\n",
       "      <td>2384000.0</td>\n",
       "      <td>5.0</td>\n",
       "      <td>2.50</td>\n",
       "      <td>3650</td>\n",
       "      <td>9050</td>\n",
       "      <td>2.0</td>\n",
       "      <td>0</td>\n",
       "      <td>4</td>\n",
       "      <td>5</td>\n",
       "      <td>3370</td>\n",
       "      <td>280</td>\n",
       "      <td>1921</td>\n",
       "      <td>0</td>\n",
       "      <td>709 W Blaine St</td>\n",
       "      <td>Seattle</td>\n",
       "      <td>WA 98119</td>\n",
       "      <td>USA</td>\n",
       "    </tr>\n",
       "    <tr>\n",
       "      <th>2</th>\n",
       "      <td>2014-05-02 00:00:00</td>\n",
       "      <td>342000.0</td>\n",
       "      <td>3.0</td>\n",
       "      <td>2.00</td>\n",
       "      <td>1930</td>\n",
       "      <td>11947</td>\n",
       "      <td>1.0</td>\n",
       "      <td>0</td>\n",
       "      <td>0</td>\n",
       "      <td>4</td>\n",
       "      <td>1930</td>\n",
       "      <td>0</td>\n",
       "      <td>1966</td>\n",
       "      <td>0</td>\n",
       "      <td>26206-26214 143rd Ave SE</td>\n",
       "      <td>Kent</td>\n",
       "      <td>WA 98042</td>\n",
       "      <td>USA</td>\n",
       "    </tr>\n",
       "    <tr>\n",
       "      <th>3</th>\n",
       "      <td>2014-05-02 00:00:00</td>\n",
       "      <td>420000.0</td>\n",
       "      <td>3.0</td>\n",
       "      <td>2.25</td>\n",
       "      <td>2000</td>\n",
       "      <td>8030</td>\n",
       "      <td>1.0</td>\n",
       "      <td>0</td>\n",
       "      <td>0</td>\n",
       "      <td>4</td>\n",
       "      <td>1000</td>\n",
       "      <td>1000</td>\n",
       "      <td>1963</td>\n",
       "      <td>0</td>\n",
       "      <td>857 170th Pl NE</td>\n",
       "      <td>Bellevue</td>\n",
       "      <td>WA 98008</td>\n",
       "      <td>USA</td>\n",
       "    </tr>\n",
       "    <tr>\n",
       "      <th>4</th>\n",
       "      <td>2014-05-02 00:00:00</td>\n",
       "      <td>550000.0</td>\n",
       "      <td>4.0</td>\n",
       "      <td>2.50</td>\n",
       "      <td>1940</td>\n",
       "      <td>10500</td>\n",
       "      <td>1.0</td>\n",
       "      <td>0</td>\n",
       "      <td>0</td>\n",
       "      <td>4</td>\n",
       "      <td>1140</td>\n",
       "      <td>800</td>\n",
       "      <td>1976</td>\n",
       "      <td>1992</td>\n",
       "      <td>9105 170th Ave NE</td>\n",
       "      <td>Redmond</td>\n",
       "      <td>WA 98052</td>\n",
       "      <td>USA</td>\n",
       "    </tr>\n",
       "  </tbody>\n",
       "</table>\n",
       "</div>"
      ],
      "text/plain": [
       "                  date      price  bedrooms  bathrooms  sqft_living  sqft_lot  \\\n",
       "0  2014-05-02 00:00:00   313000.0       3.0       1.50         1340      7912   \n",
       "1  2014-05-02 00:00:00  2384000.0       5.0       2.50         3650      9050   \n",
       "2  2014-05-02 00:00:00   342000.0       3.0       2.00         1930     11947   \n",
       "3  2014-05-02 00:00:00   420000.0       3.0       2.25         2000      8030   \n",
       "4  2014-05-02 00:00:00   550000.0       4.0       2.50         1940     10500   \n",
       "\n",
       "   floors  waterfront  view  condition  sqft_above  sqft_basement  yr_built  \\\n",
       "0     1.5           0     0          3        1340              0      1955   \n",
       "1     2.0           0     4          5        3370            280      1921   \n",
       "2     1.0           0     0          4        1930              0      1966   \n",
       "3     1.0           0     0          4        1000           1000      1963   \n",
       "4     1.0           0     0          4        1140            800      1976   \n",
       "\n",
       "   yr_renovated                    street       city  statezip country  \n",
       "0          2005      18810 Densmore Ave N  Shoreline  WA 98133     USA  \n",
       "1             0           709 W Blaine St    Seattle  WA 98119     USA  \n",
       "2             0  26206-26214 143rd Ave SE       Kent  WA 98042     USA  \n",
       "3             0           857 170th Pl NE   Bellevue  WA 98008     USA  \n",
       "4          1992         9105 170th Ave NE    Redmond  WA 98052     USA  "
      ]
     },
     "execution_count": 810,
     "metadata": {},
     "output_type": "execute_result"
    }
   ],
   "source": [
    "df = pd.read_csv(\"data.csv\") # Data is \"House Price Prediction\" by EMRE ARSLAN from Kaggle\n",
    "df.head()"
   ]
  },
  {
   "cell_type": "code",
   "execution_count": 811,
   "id": "c2feb91f",
   "metadata": {},
   "outputs": [
    {
     "data": {
      "text/plain": [
       "0    13.4\n",
       "1    36.5\n",
       "2    19.3\n",
       "3    20.0\n",
       "4    19.4\n",
       "Name: sqft_living, dtype: float64"
      ]
     },
     "execution_count": 811,
     "metadata": {},
     "output_type": "execute_result"
    }
   ],
   "source": [
    "X = df['sqft_living'] / 100 # Regularization\n",
    "X.head()"
   ]
  },
  {
   "cell_type": "code",
   "execution_count": 812,
   "id": "4f7f01d4",
   "metadata": {},
   "outputs": [
    {
     "data": {
      "text/plain": [
       "0     3.13\n",
       "1    23.84\n",
       "2     3.42\n",
       "3     4.20\n",
       "4     5.50\n",
       "Name: price, dtype: float64"
      ]
     },
     "execution_count": 812,
     "metadata": {},
     "output_type": "execute_result"
    }
   ],
   "source": [
    "y = df['price'] / 100000 # Regularization\n",
    "y.head()"
   ]
  },
  {
   "cell_type": "code",
   "execution_count": 813,
   "id": "4784d0dc",
   "metadata": {},
   "outputs": [],
   "source": [
    "def split(x, y, rate):\n",
    "    m = x.shape[0]\n",
    "    # For more readability\n",
    "    n1 = int(m*rate)\n",
    "    n2 = int(n1+m*(1-rate)/2)\n",
    "    n3 = int(n2+m*(1-rate)/2)\n",
    "    # Shuffle the data\n",
    "    x = x.sample(frac=1, random_state=42).reset_index(drop=True)\n",
    "    y = y.sample(frac=1, random_state=42).reset_index(drop=True)\n",
    "    x_train = x[:n1]\n",
    "    y_train = y[:n1]\n",
    "    x_test = x[n1:n2].reset_index(drop=True)\n",
    "    y_test = y[n1:n2].reset_index(drop=True)\n",
    "    x_cv = x[n2:n3].reset_index(drop=True)\n",
    "    y_cv = y[n2:n3].reset_index(drop=True)\n",
    "    return np.array(x_train), np.array(x_test), np.array(x_cv), np.array(y_train), np.array(y_test), np.array(y_cv)"
   ]
  },
  {
   "cell_type": "code",
   "execution_count": 814,
   "id": "086b2b1e",
   "metadata": {},
   "outputs": [],
   "source": [
    "x_train, x_test, x_cv, y_train, y_test, y_cv = split(X, y, 0.8)"
   ]
  },
  {
   "cell_type": "code",
   "execution_count": 815,
   "id": "880fa884",
   "metadata": {},
   "outputs": [],
   "source": [
    "def cost(x, y, w, b, lambd=0): \n",
    "    m = x.shape[0] \n",
    "    cost=0\n",
    "    for i in range(m):\n",
    "        prediction = w*x[i] + b\n",
    "        cost += (prediction - y[i]) ** 2\n",
    "    cost += lambd * np.sum(w**2) # L2 regularization\n",
    "    return cost/(2*m)"
   ]
  },
  {
   "cell_type": "code",
   "execution_count": 816,
   "id": "0ae607ef",
   "metadata": {},
   "outputs": [
    {
     "data": {
      "text/plain": [
       "33.16027510626682"
      ]
     },
     "execution_count": 816,
     "metadata": {},
     "output_type": "execute_result"
    }
   ],
   "source": [
    "cost(x_train, y_train, 0, 0, 0.1)"
   ]
  },
  {
   "cell_type": "code",
   "execution_count": 817,
   "id": "269681b8",
   "metadata": {},
   "outputs": [],
   "source": [
    "def gradient(x, y, w, b): \n",
    "    m = x.shape[0]\n",
    "    derivative_w = 0\n",
    "    derivative_b = 0\n",
    "    for i in range(m):\n",
    "        prediction = w*x[i] + b\n",
    "        derivative_w += (prediction - y[i]) * x[i]\n",
    "        derivative_b += prediction - y[i]\n",
    "    return derivative_w/m, derivative_b/m"
   ]
  },
  {
   "cell_type": "code",
   "execution_count": 818,
   "id": "08ed84ba",
   "metadata": {},
   "outputs": [
    {
     "data": {
      "text/plain": [
       "(-141.19872239293863, -5.528300827272399)"
      ]
     },
     "execution_count": 818,
     "metadata": {},
     "output_type": "execute_result"
    }
   ],
   "source": [
    "gradient(x_train, y_train, 0, 0)"
   ]
  },
  {
   "cell_type": "code",
   "execution_count": 819,
   "id": "081ed03e",
   "metadata": {},
   "outputs": [],
   "source": [
    "def gradient_descent(x, y, w, b, cost_function, gradient_function, alpha, num_iters, lambd=0): \n",
    "    m = len(x)\n",
    "    for i in range(num_iters):\n",
    "        derivative_w, derivative_b = gradient_function(x, y, w, b)  \n",
    "        w = w - alpha * derivative_w               \n",
    "        b = b - alpha * derivative_b               \n",
    "        cost =  cost_function(x, y, w, b, lambd)\n",
    "        if i% int(num_iters/10) == 0:\n",
    "            print(f\"Iteration {i:4}: Cost {float(cost):8.2f}   \")\n",
    "    print(f\"Iteration {num_iters:4}: Cost {float(cost):8.2f}   \")\n",
    "    return w, b"
   ]
  },
  {
   "cell_type": "code",
   "execution_count": 836,
   "id": "7c092788",
   "metadata": {},
   "outputs": [],
   "source": [
    "x_train, x_test, x_cv, y_train, y_test, y_cv = split(X, y, 0.8)\n",
    "initial_w = 0.\n",
    "initial_b = 0.\n",
    "iterations = 100\n",
    "alpha = 0.0004 # Optimal value"
   ]
  },
  {
   "cell_type": "code",
   "execution_count": 837,
   "id": "c7fa6303",
   "metadata": {},
   "outputs": [
    {
     "name": "stdout",
     "output_type": "stream",
     "text": [
      "Iteration    0: Cost    26.06   \n",
      "Iteration   10: Cost    15.22   \n",
      "Iteration   20: Cost    15.15   \n",
      "Iteration   30: Cost    15.15   \n",
      "Iteration   40: Cost    15.15   \n",
      "Iteration   50: Cost    15.15   \n",
      "Iteration   60: Cost    15.15   \n",
      "Iteration   70: Cost    15.15   \n",
      "Iteration   80: Cost    15.15   \n",
      "Iteration   90: Cost    15.15   \n",
      "Iteration  100: Cost    15.15   \n"
     ]
    }
   ],
   "source": [
    "w, b = gradient_descent(x_train, y_train, initial_w, initial_b, cost, gradient, alpha, iterations)"
   ]
  },
  {
   "cell_type": "code",
   "execution_count": 833,
   "id": "1004c3d4",
   "metadata": {},
   "outputs": [
    {
     "name": "stdout",
     "output_type": "stream",
     "text": [
      "Train data final cost: 15.151149263692789\n",
      "Test data final cost: 5.062087877373735\n",
      "Cross Validation data final cost: 3.227535594480098\n"
     ]
    }
   ],
   "source": [
    "print(f\"Train data final cost: {cost(x_train, y_train, w, b, 0)}\")\n",
    "print(f\"Test data final cost: {cost(x_test, y_test, w, b, 0)}\")\n",
    "print(f\"Cross Validation data final cost: {cost(x_cv, y_cv, w, b, 0)}\")"
   ]
  },
  {
   "cell_type": "markdown",
   "id": "4d0a6f6f",
   "metadata": {},
   "source": [
    "### Multiple feature linear regression ###"
   ]
  },
  {
   "cell_type": "code",
   "execution_count": 735,
   "id": "28867b21",
   "metadata": {},
   "outputs": [
    {
     "data": {
      "text/html": [
       "<div>\n",
       "<style scoped>\n",
       "    .dataframe tbody tr th:only-of-type {\n",
       "        vertical-align: middle;\n",
       "    }\n",
       "\n",
       "    .dataframe tbody tr th {\n",
       "        vertical-align: top;\n",
       "    }\n",
       "\n",
       "    .dataframe thead th {\n",
       "        text-align: right;\n",
       "    }\n",
       "</style>\n",
       "<table border=\"1\" class=\"dataframe\">\n",
       "  <thead>\n",
       "    <tr style=\"text-align: right;\">\n",
       "      <th></th>\n",
       "      <th>date</th>\n",
       "      <th>price</th>\n",
       "      <th>bedrooms</th>\n",
       "      <th>bathrooms</th>\n",
       "      <th>sqft_living</th>\n",
       "      <th>sqft_lot</th>\n",
       "      <th>floors</th>\n",
       "      <th>waterfront</th>\n",
       "      <th>view</th>\n",
       "      <th>condition</th>\n",
       "      <th>sqft_above</th>\n",
       "      <th>sqft_basement</th>\n",
       "      <th>yr_built</th>\n",
       "      <th>yr_renovated</th>\n",
       "      <th>street</th>\n",
       "      <th>city</th>\n",
       "      <th>statezip</th>\n",
       "      <th>country</th>\n",
       "    </tr>\n",
       "  </thead>\n",
       "  <tbody>\n",
       "    <tr>\n",
       "      <th>0</th>\n",
       "      <td>2014-05-02 00:00:00</td>\n",
       "      <td>313000.0</td>\n",
       "      <td>3.0</td>\n",
       "      <td>1.50</td>\n",
       "      <td>1340</td>\n",
       "      <td>7912</td>\n",
       "      <td>1.5</td>\n",
       "      <td>0</td>\n",
       "      <td>0</td>\n",
       "      <td>3</td>\n",
       "      <td>1340</td>\n",
       "      <td>0</td>\n",
       "      <td>1955</td>\n",
       "      <td>2005</td>\n",
       "      <td>18810 Densmore Ave N</td>\n",
       "      <td>Shoreline</td>\n",
       "      <td>WA 98133</td>\n",
       "      <td>USA</td>\n",
       "    </tr>\n",
       "    <tr>\n",
       "      <th>1</th>\n",
       "      <td>2014-05-02 00:00:00</td>\n",
       "      <td>2384000.0</td>\n",
       "      <td>5.0</td>\n",
       "      <td>2.50</td>\n",
       "      <td>3650</td>\n",
       "      <td>9050</td>\n",
       "      <td>2.0</td>\n",
       "      <td>0</td>\n",
       "      <td>4</td>\n",
       "      <td>5</td>\n",
       "      <td>3370</td>\n",
       "      <td>280</td>\n",
       "      <td>1921</td>\n",
       "      <td>0</td>\n",
       "      <td>709 W Blaine St</td>\n",
       "      <td>Seattle</td>\n",
       "      <td>WA 98119</td>\n",
       "      <td>USA</td>\n",
       "    </tr>\n",
       "    <tr>\n",
       "      <th>2</th>\n",
       "      <td>2014-05-02 00:00:00</td>\n",
       "      <td>342000.0</td>\n",
       "      <td>3.0</td>\n",
       "      <td>2.00</td>\n",
       "      <td>1930</td>\n",
       "      <td>11947</td>\n",
       "      <td>1.0</td>\n",
       "      <td>0</td>\n",
       "      <td>0</td>\n",
       "      <td>4</td>\n",
       "      <td>1930</td>\n",
       "      <td>0</td>\n",
       "      <td>1966</td>\n",
       "      <td>0</td>\n",
       "      <td>26206-26214 143rd Ave SE</td>\n",
       "      <td>Kent</td>\n",
       "      <td>WA 98042</td>\n",
       "      <td>USA</td>\n",
       "    </tr>\n",
       "    <tr>\n",
       "      <th>3</th>\n",
       "      <td>2014-05-02 00:00:00</td>\n",
       "      <td>420000.0</td>\n",
       "      <td>3.0</td>\n",
       "      <td>2.25</td>\n",
       "      <td>2000</td>\n",
       "      <td>8030</td>\n",
       "      <td>1.0</td>\n",
       "      <td>0</td>\n",
       "      <td>0</td>\n",
       "      <td>4</td>\n",
       "      <td>1000</td>\n",
       "      <td>1000</td>\n",
       "      <td>1963</td>\n",
       "      <td>0</td>\n",
       "      <td>857 170th Pl NE</td>\n",
       "      <td>Bellevue</td>\n",
       "      <td>WA 98008</td>\n",
       "      <td>USA</td>\n",
       "    </tr>\n",
       "    <tr>\n",
       "      <th>4</th>\n",
       "      <td>2014-05-02 00:00:00</td>\n",
       "      <td>550000.0</td>\n",
       "      <td>4.0</td>\n",
       "      <td>2.50</td>\n",
       "      <td>1940</td>\n",
       "      <td>10500</td>\n",
       "      <td>1.0</td>\n",
       "      <td>0</td>\n",
       "      <td>0</td>\n",
       "      <td>4</td>\n",
       "      <td>1140</td>\n",
       "      <td>800</td>\n",
       "      <td>1976</td>\n",
       "      <td>1992</td>\n",
       "      <td>9105 170th Ave NE</td>\n",
       "      <td>Redmond</td>\n",
       "      <td>WA 98052</td>\n",
       "      <td>USA</td>\n",
       "    </tr>\n",
       "  </tbody>\n",
       "</table>\n",
       "</div>"
      ],
      "text/plain": [
       "                  date      price  bedrooms  bathrooms  sqft_living  sqft_lot  \\\n",
       "0  2014-05-02 00:00:00   313000.0       3.0       1.50         1340      7912   \n",
       "1  2014-05-02 00:00:00  2384000.0       5.0       2.50         3650      9050   \n",
       "2  2014-05-02 00:00:00   342000.0       3.0       2.00         1930     11947   \n",
       "3  2014-05-02 00:00:00   420000.0       3.0       2.25         2000      8030   \n",
       "4  2014-05-02 00:00:00   550000.0       4.0       2.50         1940     10500   \n",
       "\n",
       "   floors  waterfront  view  condition  sqft_above  sqft_basement  yr_built  \\\n",
       "0     1.5           0     0          3        1340              0      1955   \n",
       "1     2.0           0     4          5        3370            280      1921   \n",
       "2     1.0           0     0          4        1930              0      1966   \n",
       "3     1.0           0     0          4        1000           1000      1963   \n",
       "4     1.0           0     0          4        1140            800      1976   \n",
       "\n",
       "   yr_renovated                    street       city  statezip country  \n",
       "0          2005      18810 Densmore Ave N  Shoreline  WA 98133     USA  \n",
       "1             0           709 W Blaine St    Seattle  WA 98119     USA  \n",
       "2             0  26206-26214 143rd Ave SE       Kent  WA 98042     USA  \n",
       "3             0           857 170th Pl NE   Bellevue  WA 98008     USA  \n",
       "4          1992         9105 170th Ave NE    Redmond  WA 98052     USA  "
      ]
     },
     "execution_count": 735,
     "metadata": {},
     "output_type": "execute_result"
    }
   ],
   "source": [
    "df.head()"
   ]
  },
  {
   "cell_type": "code",
   "execution_count": 736,
   "id": "3d5ad6aa",
   "metadata": {},
   "outputs": [
    {
     "data": {
      "text/html": [
       "<div>\n",
       "<style scoped>\n",
       "    .dataframe tbody tr th:only-of-type {\n",
       "        vertical-align: middle;\n",
       "    }\n",
       "\n",
       "    .dataframe tbody tr th {\n",
       "        vertical-align: top;\n",
       "    }\n",
       "\n",
       "    .dataframe thead th {\n",
       "        text-align: right;\n",
       "    }\n",
       "</style>\n",
       "<table border=\"1\" class=\"dataframe\">\n",
       "  <thead>\n",
       "    <tr style=\"text-align: right;\">\n",
       "      <th></th>\n",
       "      <th>price</th>\n",
       "      <th>bedrooms</th>\n",
       "      <th>bathrooms</th>\n",
       "      <th>sqft_living</th>\n",
       "      <th>sqft_lot</th>\n",
       "      <th>floors</th>\n",
       "      <th>condition</th>\n",
       "      <th>sqft_above</th>\n",
       "      <th>sqft_basement</th>\n",
       "    </tr>\n",
       "  </thead>\n",
       "  <tbody>\n",
       "    <tr>\n",
       "      <th>0</th>\n",
       "      <td>313000.0</td>\n",
       "      <td>3.0</td>\n",
       "      <td>1.50</td>\n",
       "      <td>1340</td>\n",
       "      <td>7912</td>\n",
       "      <td>1.5</td>\n",
       "      <td>3</td>\n",
       "      <td>1340</td>\n",
       "      <td>0</td>\n",
       "    </tr>\n",
       "    <tr>\n",
       "      <th>1</th>\n",
       "      <td>2384000.0</td>\n",
       "      <td>5.0</td>\n",
       "      <td>2.50</td>\n",
       "      <td>3650</td>\n",
       "      <td>9050</td>\n",
       "      <td>2.0</td>\n",
       "      <td>5</td>\n",
       "      <td>3370</td>\n",
       "      <td>280</td>\n",
       "    </tr>\n",
       "    <tr>\n",
       "      <th>2</th>\n",
       "      <td>342000.0</td>\n",
       "      <td>3.0</td>\n",
       "      <td>2.00</td>\n",
       "      <td>1930</td>\n",
       "      <td>11947</td>\n",
       "      <td>1.0</td>\n",
       "      <td>4</td>\n",
       "      <td>1930</td>\n",
       "      <td>0</td>\n",
       "    </tr>\n",
       "    <tr>\n",
       "      <th>3</th>\n",
       "      <td>420000.0</td>\n",
       "      <td>3.0</td>\n",
       "      <td>2.25</td>\n",
       "      <td>2000</td>\n",
       "      <td>8030</td>\n",
       "      <td>1.0</td>\n",
       "      <td>4</td>\n",
       "      <td>1000</td>\n",
       "      <td>1000</td>\n",
       "    </tr>\n",
       "    <tr>\n",
       "      <th>4</th>\n",
       "      <td>550000.0</td>\n",
       "      <td>4.0</td>\n",
       "      <td>2.50</td>\n",
       "      <td>1940</td>\n",
       "      <td>10500</td>\n",
       "      <td>1.0</td>\n",
       "      <td>4</td>\n",
       "      <td>1140</td>\n",
       "      <td>800</td>\n",
       "    </tr>\n",
       "  </tbody>\n",
       "</table>\n",
       "</div>"
      ],
      "text/plain": [
       "       price  bedrooms  bathrooms  sqft_living  sqft_lot  floors  condition  \\\n",
       "0   313000.0       3.0       1.50         1340      7912     1.5          3   \n",
       "1  2384000.0       5.0       2.50         3650      9050     2.0          5   \n",
       "2   342000.0       3.0       2.00         1930     11947     1.0          4   \n",
       "3   420000.0       3.0       2.25         2000      8030     1.0          4   \n",
       "4   550000.0       4.0       2.50         1940     10500     1.0          4   \n",
       "\n",
       "   sqft_above  sqft_basement  \n",
       "0        1340              0  \n",
       "1        3370            280  \n",
       "2        1930              0  \n",
       "3        1000           1000  \n",
       "4        1140            800  "
      ]
     },
     "execution_count": 736,
     "metadata": {},
     "output_type": "execute_result"
    }
   ],
   "source": [
    "# Drop useless features\n",
    "df2 = df.drop(['date', 'waterfront', 'view', 'yr_built', 'yr_renovated', 'street', 'city', 'statezip', 'country'], axis=1)\n",
    "df2.head()"
   ]
  },
  {
   "cell_type": "code",
   "execution_count": 737,
   "id": "4d9034b9",
   "metadata": {},
   "outputs": [
    {
     "data": {
      "text/html": [
       "<div>\n",
       "<style scoped>\n",
       "    .dataframe tbody tr th:only-of-type {\n",
       "        vertical-align: middle;\n",
       "    }\n",
       "\n",
       "    .dataframe tbody tr th {\n",
       "        vertical-align: top;\n",
       "    }\n",
       "\n",
       "    .dataframe thead th {\n",
       "        text-align: right;\n",
       "    }\n",
       "</style>\n",
       "<table border=\"1\" class=\"dataframe\">\n",
       "  <thead>\n",
       "    <tr style=\"text-align: right;\">\n",
       "      <th></th>\n",
       "      <th>bedrooms</th>\n",
       "      <th>bathrooms</th>\n",
       "      <th>sqft_living</th>\n",
       "      <th>sqft_lot</th>\n",
       "      <th>floors</th>\n",
       "      <th>condition</th>\n",
       "      <th>sqft_above</th>\n",
       "      <th>sqft_basement</th>\n",
       "    </tr>\n",
       "  </thead>\n",
       "  <tbody>\n",
       "    <tr>\n",
       "      <th>0</th>\n",
       "      <td>3.0</td>\n",
       "      <td>1.50</td>\n",
       "      <td>1.34</td>\n",
       "      <td>7.912</td>\n",
       "      <td>1.5</td>\n",
       "      <td>3</td>\n",
       "      <td>1.34</td>\n",
       "      <td>0</td>\n",
       "    </tr>\n",
       "    <tr>\n",
       "      <th>1</th>\n",
       "      <td>5.0</td>\n",
       "      <td>2.50</td>\n",
       "      <td>3.65</td>\n",
       "      <td>9.050</td>\n",
       "      <td>2.0</td>\n",
       "      <td>5</td>\n",
       "      <td>3.37</td>\n",
       "      <td>280</td>\n",
       "    </tr>\n",
       "    <tr>\n",
       "      <th>2</th>\n",
       "      <td>3.0</td>\n",
       "      <td>2.00</td>\n",
       "      <td>1.93</td>\n",
       "      <td>11.947</td>\n",
       "      <td>1.0</td>\n",
       "      <td>4</td>\n",
       "      <td>1.93</td>\n",
       "      <td>0</td>\n",
       "    </tr>\n",
       "    <tr>\n",
       "      <th>3</th>\n",
       "      <td>3.0</td>\n",
       "      <td>2.25</td>\n",
       "      <td>2.00</td>\n",
       "      <td>8.030</td>\n",
       "      <td>1.0</td>\n",
       "      <td>4</td>\n",
       "      <td>1.00</td>\n",
       "      <td>1000</td>\n",
       "    </tr>\n",
       "    <tr>\n",
       "      <th>4</th>\n",
       "      <td>4.0</td>\n",
       "      <td>2.50</td>\n",
       "      <td>1.94</td>\n",
       "      <td>10.500</td>\n",
       "      <td>1.0</td>\n",
       "      <td>4</td>\n",
       "      <td>1.14</td>\n",
       "      <td>800</td>\n",
       "    </tr>\n",
       "  </tbody>\n",
       "</table>\n",
       "</div>"
      ],
      "text/plain": [
       "   bedrooms  bathrooms  sqft_living  sqft_lot  floors  condition  sqft_above  \\\n",
       "0       3.0       1.50         1.34     7.912     1.5          3        1.34   \n",
       "1       5.0       2.50         3.65     9.050     2.0          5        3.37   \n",
       "2       3.0       2.00         1.93    11.947     1.0          4        1.93   \n",
       "3       3.0       2.25         2.00     8.030     1.0          4        1.00   \n",
       "4       4.0       2.50         1.94    10.500     1.0          4        1.14   \n",
       "\n",
       "   sqft_basement  \n",
       "0              0  \n",
       "1            280  \n",
       "2              0  \n",
       "3           1000  \n",
       "4            800  "
      ]
     },
     "execution_count": 737,
     "metadata": {},
     "output_type": "execute_result"
    }
   ],
   "source": [
    "X = df2.drop(['price'], axis=1)\n",
    "X[['sqft_living', 'sqft_lot', 'sqft_above']] /= 1000 # Regularization\n",
    "X.head()"
   ]
  },
  {
   "cell_type": "code",
   "execution_count": 738,
   "id": "5993f914",
   "metadata": {},
   "outputs": [
    {
     "data": {
      "text/html": [
       "<div>\n",
       "<style scoped>\n",
       "    .dataframe tbody tr th:only-of-type {\n",
       "        vertical-align: middle;\n",
       "    }\n",
       "\n",
       "    .dataframe tbody tr th {\n",
       "        vertical-align: top;\n",
       "    }\n",
       "\n",
       "    .dataframe thead th {\n",
       "        text-align: right;\n",
       "    }\n",
       "</style>\n",
       "<table border=\"1\" class=\"dataframe\">\n",
       "  <thead>\n",
       "    <tr style=\"text-align: right;\">\n",
       "      <th></th>\n",
       "      <th>price</th>\n",
       "    </tr>\n",
       "  </thead>\n",
       "  <tbody>\n",
       "    <tr>\n",
       "      <th>0</th>\n",
       "      <td>3.13</td>\n",
       "    </tr>\n",
       "    <tr>\n",
       "      <th>1</th>\n",
       "      <td>23.84</td>\n",
       "    </tr>\n",
       "    <tr>\n",
       "      <th>2</th>\n",
       "      <td>3.42</td>\n",
       "    </tr>\n",
       "    <tr>\n",
       "      <th>3</th>\n",
       "      <td>4.20</td>\n",
       "    </tr>\n",
       "    <tr>\n",
       "      <th>4</th>\n",
       "      <td>5.50</td>\n",
       "    </tr>\n",
       "  </tbody>\n",
       "</table>\n",
       "</div>"
      ],
      "text/plain": [
       "   price\n",
       "0   3.13\n",
       "1  23.84\n",
       "2   3.42\n",
       "3   4.20\n",
       "4   5.50"
      ]
     },
     "execution_count": 738,
     "metadata": {},
     "output_type": "execute_result"
    }
   ],
   "source": [
    "y = (df2['price'] / 100000).values.reshape(-1, 1) # Regularization\n",
    "y = pd.DataFrame(y, columns=['price'])\n",
    "y.head()"
   ]
  },
  {
   "cell_type": "code",
   "execution_count": 740,
   "id": "8a314423",
   "metadata": {},
   "outputs": [],
   "source": [
    "def cost(x, y, w, b): \n",
    "    m = x.shape[0]\n",
    "    cost=0.\n",
    "    for i in range(m):\n",
    "        prediction = np.dot(x[i], w) + b\n",
    "        cost += (prediction - y[i]) ** 2\n",
    "    return cost/(2*m)"
   ]
  },
  {
   "cell_type": "code",
   "execution_count": 741,
   "id": "54a58128",
   "metadata": {},
   "outputs": [],
   "source": [
    "def gradient(x, y, w, b): \n",
    "    m, n = x.shape\n",
    "    derivative_w = np.zeros((n,))\n",
    "    derivative_b = 0\n",
    "    for i in range(m):\n",
    "        predictions = (np.dot(x[i], w) + b) - y[i]\n",
    "        for j in range(n):\n",
    "            derivative_w[j] += predictions * x[i, j]    \n",
    "        derivative_b += predictions\n",
    "    return derivative_w/m, derivative_b/m"
   ]
  },
  {
   "cell_type": "code",
   "execution_count": 800,
   "id": "24be03ef",
   "metadata": {},
   "outputs": [],
   "source": [
    "def gradient_descent(x, y, w, b, cost_function, gradient_function, alpha, num_iters): \n",
    "    m, n = x.shape\n",
    "    for i in range(num_iters):\n",
    "        derivative_w, derivative_b = gradient_function(x, y, w, b)  \n",
    "        w = w - alpha * derivative_w               \n",
    "        b = b - alpha * derivative_b               \n",
    "        cost =  np.sum(cost_function(x, y, w, b))\n",
    "        if i % (num_iters/10) == 0:\n",
    "            print(f\"Iteration {i:4}: Cost {float(cost):8.2f}   \")\n",
    "    print(f\"Iteration {num_iters:4}: Cost {float(cost):8.2f}   \")\n",
    "    return w, b"
   ]
  },
  {
   "cell_type": "code",
   "execution_count": 804,
   "id": "6c3ca771",
   "metadata": {},
   "outputs": [],
   "source": [
    "x_train, x_test, x_cv, y_train, y_test, y_cv = split(X, y, 0.6)\n",
    "initial_w = np.zeros([x_train.shape[1],])\n",
    "initial_b = 0.\n",
    "iterations = 1000\n",
    "alpha = 0.000006 # Optimal value"
   ]
  },
  {
   "cell_type": "code",
   "execution_count": 805,
   "id": "9478c364",
   "metadata": {
    "scrolled": true
   },
   "outputs": [
    {
     "name": "stdout",
     "output_type": "stream",
     "text": [
      "Iteration    0: Cost    35.47   \n",
      "Iteration  100: Cost    27.43   \n",
      "Iteration  200: Cost    27.10   \n",
      "Iteration  300: Cost    26.87   \n",
      "Iteration  400: Cost    26.66   \n",
      "Iteration  500: Cost    26.46   \n",
      "Iteration  600: Cost    26.26   \n",
      "Iteration  700: Cost    26.07   \n",
      "Iteration  800: Cost    25.89   \n",
      "Iteration  900: Cost    25.71   \n",
      "Iteration 1000: Cost    25.53   \n"
     ]
    }
   ],
   "source": [
    "w, b = gradient_descent(x_train, y_train, initial_w, initial_b, cost, gradient, alpha, iterations)"
   ]
  },
  {
   "cell_type": "code",
   "execution_count": 808,
   "id": "f972a6de",
   "metadata": {},
   "outputs": [
    {
     "name": "stdout",
     "output_type": "stream",
     "text": [
      "Train data final cost: 25.534135254600848\n",
      "Test data final cost: 11.227007536225937\n",
      "Cross Validation data final cost: 11.488365751123974\n"
     ]
    }
   ],
   "source": [
    "print(f\"Train data final cost: {cost(x_train, y_train, w, b)[0]}\")\n",
    "print(f\"Test data final cost: {cost(x_test, y_test, w, b)[0]}\")\n",
    "print(f\"Cross Validation data final cost: {cost(x_cv, y_cv, w, b)[0]}\")"
   ]
  }
 ],
 "metadata": {
  "kernelspec": {
   "display_name": "Python 3 (ipykernel)",
   "language": "python",
   "name": "python3"
  },
  "language_info": {
   "codemirror_mode": {
    "name": "ipython",
    "version": 3
   },
   "file_extension": ".py",
   "mimetype": "text/x-python",
   "name": "python",
   "nbconvert_exporter": "python",
   "pygments_lexer": "ipython3",
   "version": "3.9.12"
  }
 },
 "nbformat": 4,
 "nbformat_minor": 5
}
